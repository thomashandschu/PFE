{
 "cells": [
  {
   "cell_type": "code",
   "execution_count": 1,
   "metadata": {},
   "outputs": [],
   "source": [
    "import pandas as pd \n",
    "from bs4 import BeautifulSoup\n",
    "import requests\n",
    "import re "
   ]
  },
  {
   "cell_type": "code",
   "execution_count": 2,
   "metadata": {},
   "outputs": [],
   "source": [
    "def gross_and_production(txt_block):\n",
    "    grosss1=[]\n",
    "    productions1=[]\n",
    "    for ligne in txt_block:\n",
    "        li=ligne.text\n",
    "               \n",
    "        if \"Cumulative Worldwide Gross\" in li :\n",
    "            gross_world=li\n",
    "            gross_world=int(re.sub(\"[^0-9]\", \"\", gross_world))\n",
    "            grosss1.append(gross_world)\n",
    "        else :\n",
    "            gross_world=0\n",
    "            grosss1.append(gross_world)\n",
    "            \n",
    "        if \"Production\" in li:\n",
    "            main_producteur=ligne.a.text\n",
    "            productions1.append(main_producteur)\n",
    "            \n",
    "        else :\n",
    "            main_producteur=\"\"\n",
    "            productions1.append(main_producteur)\n",
    "                \n",
    "               \n",
    "    while '' in productions1:\n",
    "        del productions1[productions1.index('')]\n",
    "           \n",
    "    if len(productions1)==0:\n",
    "        main_producteur=\"Pas de production\"\n",
    "    else :\n",
    "        main_producteur=productions1[0]\n",
    "         \n",
    "    gross_wolrd=max(grosss1)\n",
    "        \n",
    "    return main_producteur,gross_wolrd"
   ]
  },
  {
   "cell_type": "code",
   "execution_count": 3,
   "metadata": {},
   "outputs": [],
   "source": [
    "def get_metascore(soup):\n",
    "    try :\n",
    "        metascore=soup.find(\"div\",class_=\"metacriticScore\").text.replace('\\n','')\n",
    "    except :\n",
    "        metascore=0\n",
    "    return metascore  "
   ]
  },
  {
   "cell_type": "code",
   "execution_count": 4,
   "metadata": {},
   "outputs": [],
   "source": [
    "def get_note_vote(soup):\n",
    "    try :\n",
    "\n",
    "        vote = int(soup.find(\"span\", itemprop=\"ratingCount\").text.replace(',',''))\n",
    "    except :\n",
    "\n",
    "        vote=0\n",
    "    return vote"
   ]
  },
  {
   "cell_type": "code",
   "execution_count": 5,
   "metadata": {},
   "outputs": [],
   "source": [
    "def get_commentaire(soup):\n",
    "    try :\n",
    "        commentaire=soup.find(\"div\",class_=\"user-comments\").p.text\n",
    "    except :\n",
    "        commentaire=\" \"\n",
    "     \n",
    "    return commentaire"
   ]
  },
  {
   "cell_type": "code",
   "execution_count": 6,
   "metadata": {},
   "outputs": [],
   "source": [
    "def scraping_donnees(links,new_file_name):   \n",
    "\n",
    "    votes=[]\n",
    "    metascores=[]\n",
    "    budgets=[]\n",
    "    grosss=[]\n",
    "    productions=[]\n",
    "    linkss=[]\n",
    "    commentaires=[]\n",
    "    for link in links:\n",
    "        \n",
    "        req=requests.get(link)\n",
    "        soup = BeautifulSoup(req.text, \"html.parser\")\n",
    "\n",
    "        vote=get_note_vote(soup)\n",
    "        metascore=get_metascore(soup)\n",
    "        txt_block=soup.find_all(\"div\",class_=\"txt-block\")\n",
    "        main_producteur=gross_and_production(txt_block)[0]\n",
    "        gross_wolrd=gross_and_production(txt_block)[1]\n",
    "        \n",
    "        linkss.append(link)\n",
    "        commentaire=get_commentaire(soup)\n",
    "        commentaires.append(commentaire)\n",
    "        metascores.append(metascore)\n",
    "        grosss.append(gross_wolrd)\n",
    "        productions.append(main_producteur)\n",
    "        votes.append(vote)\n",
    " \n",
    "        \n",
    "    \n",
    "    infos=pd.DataFrame({'nombre_votes':votes,'main production':productions,'gross_world':grosss,'metascore':metascores,'commentaire':commentaires,'movie_imdb_link':linkss})\n",
    "    infos.to_csv(str(new_file_name)+'.csv',sep=';',index=None)\n",
    "    return infos"
   ]
  },
  {
   "cell_type": "code",
   "execution_count": 7,
   "metadata": {},
   "outputs": [],
   "source": [
    "movies_train=pd.read_csv(\"Train_file.csv\", sep=';')\n",
    "a=movies_train.movie_imdb_link.isna()\n",
    "skip=[]\n",
    "for i in range(len(a)):\n",
    "    if a[i]==True :\n",
    "        skip.append(i)\n",
    "movies_train=movies_train.drop(index=skip)"
   ]
  },
  {
   "cell_type": "code",
   "execution_count": 8,
   "metadata": {},
   "outputs": [],
   "source": [
    "df=movies_train\n",
    "links=df.movie_imdb_link\n",
    "df=scraping_donnees(links,\"train_file_scrapping\")"
   ]
  },
  {
   "cell_type": "code",
   "execution_count": null,
   "metadata": {},
   "outputs": [],
   "source": []
  }
 ],
 "metadata": {
  "kernelspec": {
   "display_name": "Python 3",
   "language": "python",
   "name": "python3"
  },
  "language_info": {
   "codemirror_mode": {
    "name": "ipython",
    "version": 3
   },
   "file_extension": ".py",
   "mimetype": "text/x-python",
   "name": "python",
   "nbconvert_exporter": "python",
   "pygments_lexer": "ipython3",
   "version": "3.8.5"
  }
 },
 "nbformat": 4,
 "nbformat_minor": 4
}
