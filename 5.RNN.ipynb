{
 "cells": [
  {
   "cell_type": "code",
   "execution_count": 1,
   "metadata": {},
   "outputs": [],
   "source": [
    "import pandas as pd \n",
    "import numpy as np\n",
    "import matplotlib.pyplot as plt\n",
    "import seaborn as sns"
   ]
  },
  {
   "cell_type": "code",
   "execution_count": 2,
   "metadata": {},
   "outputs": [],
   "source": [
    "from keras.models import Sequential\n",
    "from keras.layers import Dense\n",
    "from keras.layers import Dropout\n",
    "\n",
    "from keras.wrappers.scikit_learn import KerasRegressor\n",
    "from sklearn.model_selection import cross_val_score\n",
    "from sklearn.model_selection import KFold\n",
    "from sklearn.preprocessing import StandardScaler\n",
    "from sklearn.pipeline import Pipeline"
   ]
  },
  {
   "cell_type": "code",
   "execution_count": 3,
   "metadata": {},
   "outputs": [
    {
     "data": {
      "text/plain": [
       "(4499, 48)"
      ]
     },
     "execution_count": 3,
     "metadata": {},
     "output_type": "execute_result"
    }
   ],
   "source": [
    "movies=pd.read_csv('train_file_prediction.csv',sep=';')\n",
    "movies.shape"
   ]
  },
  {
   "cell_type": "code",
   "execution_count": 4,
   "metadata": {},
   "outputs": [],
   "source": [
    "liste_colonnes=list(movies.columns)\n",
    "liste_colonnes.remove('imdb_score')\n",
    "X=movies[liste_colonnes]\n",
    "y=movies['imdb_score']"
   ]
  },
  {
   "cell_type": "code",
   "execution_count": 5,
   "metadata": {},
   "outputs": [],
   "source": [
    "def baseline_model():\n",
    "    # create model\n",
    "    model = Sequential()\n",
    "    model.add(Dense(250, input_dim=47, activation='relu'))\n",
    "    model.add(Dense(100, activation='tanh'))\n",
    "    #model.add(Dropout(0.3))\n",
    "    model.add(Dense(40, activation='relu'))\n",
    "    model.add(Dense(20, activation='relu'))\n",
    "    model.add(Dense(1))\n",
    "    # Compile model\n",
    "    model.compile(loss='mean_squared_error', optimizer='adam',metrics=['accuracy','mean_squared_error'])\n",
    "    return model"
   ]
  },
  {
   "cell_type": "code",
   "execution_count": 6,
   "metadata": {},
   "outputs": [],
   "source": [
    "#from sklearn.model_selection import train_test_split\n",
    "#X_train, X_test, y_train, y_test = train_test_split(X, y, test_size=0.2, random_state=2)"
   ]
  },
  {
   "cell_type": "code",
   "execution_count": 7,
   "metadata": {},
   "outputs": [
    {
     "name": "stdout",
     "output_type": "stream",
     "text": [
      "Epoch 1/20\n",
      "36/36 [==============================] - 1s 2ms/step - loss: 25.3995 - accuracy: 0.0000e+00 - mean_squared_error: 25.3995\n",
      "Epoch 2/20\n",
      "36/36 [==============================] - 0s 2ms/step - loss: 1.4099 - accuracy: 0.0000e+00 - mean_squared_error: 1.4099\n",
      "Epoch 3/20\n",
      "36/36 [==============================] - 0s 2ms/step - loss: 1.3032 - accuracy: 0.0000e+00 - mean_squared_error: 1.3032\n",
      "Epoch 4/20\n",
      "36/36 [==============================] - 0s 2ms/step - loss: 1.2784 - accuracy: 0.0000e+00 - mean_squared_error: 1.2784\n",
      "Epoch 5/20\n",
      "36/36 [==============================] - 0s 2ms/step - loss: 1.2788 - accuracy: 0.0000e+00 - mean_squared_error: 1.2788\n",
      "Epoch 6/20\n",
      "36/36 [==============================] - 0s 2ms/step - loss: 1.2998 - accuracy: 0.0000e+00 - mean_squared_error: 1.2998\n",
      "Epoch 7/20\n",
      "36/36 [==============================] - 0s 2ms/step - loss: 1.2276 - accuracy: 0.0000e+00 - mean_squared_error: 1.2276\n",
      "Epoch 8/20\n",
      "36/36 [==============================] - 0s 2ms/step - loss: 1.2235 - accuracy: 0.0000e+00 - mean_squared_error: 1.2235\n",
      "Epoch 9/20\n",
      "36/36 [==============================] - 0s 2ms/step - loss: 1.2646 - accuracy: 0.0000e+00 - mean_squared_error: 1.2646\n",
      "Epoch 10/20\n",
      "36/36 [==============================] - 0s 2ms/step - loss: 1.2628 - accuracy: 0.0000e+00 - mean_squared_error: 1.2628\n",
      "Epoch 11/20\n",
      "36/36 [==============================] - 0s 2ms/step - loss: 1.2455 - accuracy: 0.0000e+00 - mean_squared_error: 1.2455\n",
      "Epoch 12/20\n",
      "36/36 [==============================] - 0s 2ms/step - loss: 1.2570 - accuracy: 0.0000e+00 - mean_squared_error: 1.2570\n",
      "Epoch 13/20\n",
      "36/36 [==============================] - 0s 2ms/step - loss: 1.2806 - accuracy: 0.0000e+00 - mean_squared_error: 1.2806\n",
      "Epoch 14/20\n",
      "36/36 [==============================] - 0s 2ms/step - loss: 1.2485 - accuracy: 0.0000e+00 - mean_squared_error: 1.2485\n",
      "Epoch 15/20\n",
      "36/36 [==============================] - 0s 2ms/step - loss: 1.2253 - accuracy: 0.0000e+00 - mean_squared_error: 1.2253\n",
      "Epoch 16/20\n",
      "36/36 [==============================] - 0s 2ms/step - loss: 1.3000 - accuracy: 0.0000e+00 - mean_squared_error: 1.3000\n",
      "Epoch 17/20\n",
      "36/36 [==============================] - 0s 2ms/step - loss: 1.2631 - accuracy: 0.0000e+00 - mean_squared_error: 1.2631\n",
      "Epoch 18/20\n",
      "36/36 [==============================] - 0s 2ms/step - loss: 1.2607 - accuracy: 0.0000e+00 - mean_squared_error: 1.2607\n",
      "Epoch 19/20\n",
      "36/36 [==============================] - 0s 2ms/step - loss: 1.2464 - accuracy: 0.0000e+00 - mean_squared_error: 1.2464\n",
      "Epoch 20/20\n",
      "36/36 [==============================] - 0s 2ms/step - loss: 1.2142 - accuracy: 0.0000e+00 - mean_squared_error: 1.2142\n"
     ]
    },
    {
     "data": {
      "text/plain": [
       "[<matplotlib.lines.Line2D at 0x1651d74f6d0>]"
      ]
     },
     "execution_count": 7,
     "metadata": {},
     "output_type": "execute_result"
    },
    {
     "data": {
      "image/png": "[encoded data removed]",
      "text/plain": [
       "<Figure size 432x288 with 1 Axes>"
      ]
     },
     "metadata": {
      "needs_background": "light"
     },
     "output_type": "display_data"
    }
   ],
   "source": [
    "model=baseline_model()\n",
    "\n",
    "history = model.fit(X, y, batch_size=128, epochs=20)\n",
    "plt.plot(history.history['mean_squared_error'])"
   ]
  },
  {
   "cell_type": "code",
   "execution_count": 10,
   "metadata": {},
   "outputs": [],
   "source": [
    "y_pred = model.predict(X)\n",
    "y_pred=np.around(y_pred, decimals=2)\n"
   ]
  },
  {
   "cell_type": "code",
   "execution_count": 11,
   "metadata": {},
   "outputs": [
    {
     "data": {
      "text/plain": [
       "array([[6.88],\n",
       "       [6.65],\n",
       "       [6.65],\n",
       "       ...,\n",
       "       [6.57],\n",
       "       [6.57],\n",
       "       [6.6 ]], dtype=float32)"
      ]
     },
     "execution_count": 11,
     "metadata": {},
     "output_type": "execute_result"
    }
   ],
   "source": [
    "from sklearn.metrics import accuracy_score\n",
    "y_pred"
   ]
  },
  {
   "cell_type": "code",
   "execution_count": 12,
   "metadata": {},
   "outputs": [
    {
     "data": {
      "text/plain": [
       "array([6.88], dtype=float32)"
      ]
     },
     "execution_count": 12,
     "metadata": {},
     "output_type": "execute_result"
    }
   ],
   "source": [
    "max(y_pred)"
   ]
  },
  {
   "cell_type": "code",
   "execution_count": 13,
   "metadata": {},
   "outputs": [
    {
     "data": {
      "text/plain": [
       "array([5.16], dtype=float32)"
      ]
     },
     "execution_count": 13,
     "metadata": {},
     "output_type": "execute_result"
    }
   ],
   "source": [
    "min(y_pred)"
   ]
  },
  {
   "cell_type": "code",
   "execution_count": 14,
   "metadata": {},
   "outputs": [
    {
     "data": {
      "text/plain": [
       "<function matplotlib.pyplot.show(close=None, block=None)>"
      ]
     },
     "execution_count": 14,
     "metadata": {},
     "output_type": "execute_result"
    },
    {
     "data": {
      "image/png": "[encoded data removed]",
      "text/plain": [
       "<Figure size 432x288 with 1 Axes>"
      ]
     },
     "metadata": {
      "needs_background": "light"
     },
     "output_type": "display_data"
    }
   ],
   "source": [
    "plt.hist(y_pred,bins=20)\n",
    "plt.title(\"Répartition des notes prédites\")\n",
    "plt.xlabel(\"Notes\")\n",
    "plt.show"
   ]
  },
  {
   "cell_type": "code",
   "execution_count": null,
   "metadata": {},
   "outputs": [],
   "source": []
  }
 ],
 "metadata": {
  "kernelspec": {
   "display_name": "Python 3",
   "language": "python",
   "name": "python3"
  },
  "language_info": {
   "codemirror_mode": {
    "name": "ipython",
    "version": 3
   },
   "file_extension": ".py",
   "mimetype": "text/x-python",
   "name": "python",
   "nbconvert_exporter": "python",
   "pygments_lexer": "ipython3",
   "version": "3.8.5"
  }
 },
 "nbformat": 4,
 "nbformat_minor": 4
}
